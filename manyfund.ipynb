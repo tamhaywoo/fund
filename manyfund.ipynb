{
 "cells": [
  {
   "cell_type": "code",
   "execution_count": 1,
   "id": "89563d51",
   "metadata": {},
   "outputs": [
    {
     "name": "stdout",
     "output_type": "stream",
     "text": [
      "基金净值数据已保存为('000248', '161903', '004347', '270028', '002943', '003096', '110003', '161017', '070019', '001102', '630011', '001714', '004742', '001975', '002656', '000404', '121005', '519772', '007193', '002692')_2023-04-19.xlsx\n"
     ]
    }
   ],
   "source": [
    "pip install requests"
   ]
  },
  {
   "cell_type": "code",
   "execution_count": 8,
   "id": "f9fa3f89",
   "metadata": {},
   "outputs": [
    {
     "name": "stdout",
     "output_type": "stream",
     "text": [
      "基金净值数据已保存为基金净值数据_2023-04-19.xlsx\n"
     ]
    }
   ],
   "source": [
    "import requests\n",
    "import pandas as pd\n",
    "\n",
    "# 指定基金代码和日期\n",
    "fund_codes = [\"519704\", \"000248\", \"161903\", \"004347\", \"000404\", \"002943\", \"270028\", \"003096\", \"110003\", \"161017\", \"070019\", \"001102\", \"630011\", \"001714\", \"004742\", \"001975\", \"002656\", \"121005\", \"519772\", \"007193\", \"002692\"]\n",
    "date = \"2023-04-19\"\n",
    "\n",
    "# 循环获取每个基金的净值数据，并将数据保存为DataFrame格式\n",
    "dfs = []\n",
    "for code in fund_codes:\n",
    "    # 构造API请求地址\n",
    "    url = f\"https://api.doctorxiong.club/v1/fund?code={code}&start={date}&end={date}\"\n",
    "    \n",
    "    # 发送API请求并解析响应数据\n",
    "    response = requests.get(url)\n",
    "    data = response.json()[\"data\"]\n",
    "    \n",
    "    # 将数据转换为pandas的DataFrame格式，并添加基金代码列\n",
    "    df = pd.DataFrame(data)\n",
    "    df[\"基金代码\"] = code\n",
    "    \n",
    "    # 将数据添加到dfs列表中\n",
    "    dfs.append(df)\n",
    "\n",
    "# 将所有数据合并为一个DataFrame，并将数据保存为excel文件\n",
    "filename = f\"基金净值数据_{date}.xlsx\"\n",
    "df = pd.concat(dfs)\n",
    "df.to_excel(filename, index=False)\n",
    "\n",
    "print(f\"基金净值数据已保存为{filename}\")\n"
   ]
  },
  {
   "cell_type": "code",
   "execution_count": null,
   "id": "fa619169",
   "metadata": {},
   "outputs": [],
   "source": []
  }
 ],
 "metadata": {
  "kernelspec": {
   "display_name": "Python 3 (ipykernel)",
   "language": "python",
   "name": "python3"
  },
  "language_info": {
   "codemirror_mode": {
    "name": "ipython",
    "version": 3
   },
   "file_extension": ".py",
   "mimetype": "text/x-python",
   "name": "python",
   "nbconvert_exporter": "python",
   "pygments_lexer": "ipython3",
   "version": "3.9.13"
  }
 },
 "nbformat": 4,
 "nbformat_minor": 5
}
